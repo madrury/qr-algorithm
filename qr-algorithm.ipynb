{
 "cells": [
  {
   "cell_type": "code",
   "execution_count": 1,
   "metadata": {
    "collapsed": true
   },
   "outputs": [],
   "source": [
    "import numpy as np\n",
    "\n",
    "np.set_printoptions(precision=3)"
   ]
  },
  {
   "cell_type": "markdown",
   "metadata": {},
   "source": [
    "## Working Example"
   ]
  },
  {
   "cell_type": "code",
   "execution_count": 2,
   "metadata": {
    "collapsed": true
   },
   "outputs": [],
   "source": [
    "Q = np.array([\n",
    "    [ 0.00, -0.80, -0.60],\n",
    "    [ 0.80, -0.36,  0.48],\n",
    "    [ 0.60,  0.48, -0.64]\n",
    "])\n",
    "\n",
    "D = np.array([\n",
    "    [9, 0, 0],\n",
    "    [0, 4, 0],\n",
    "    [0, 0, 1]\n",
    "])\n",
    "\n",
    "A = Q.T @ D @ Q"
   ]
  },
  {
   "cell_type": "code",
   "execution_count": 3,
   "metadata": {},
   "outputs": [
    {
     "data": {
      "text/plain": [
       "array([[ 2.92 , -0.864,  1.152],\n",
       "       [-0.864,  6.509,  3.322],\n",
       "       [ 1.152,  3.322,  4.571]])"
      ]
     },
     "execution_count": 3,
     "metadata": {},
     "output_type": "execute_result"
    }
   ],
   "source": [
    "A"
   ]
  },
  {
   "cell_type": "code",
   "execution_count": 4,
   "metadata": {
    "collapsed": true
   },
   "outputs": [],
   "source": [
    "e_vals, e_vectors = np.linalg.eig(A)"
   ]
  },
  {
   "cell_type": "code",
   "execution_count": 5,
   "metadata": {},
   "outputs": [
    {
     "name": "stdout",
     "output_type": "stream",
     "text": [
      "[ 4.  1.  9.]\n",
      "[[  8.000e-01  -6.000e-01  -3.872e-17]\n",
      " [ -3.600e-01  -4.800e-01   8.000e-01]\n",
      " [  4.800e-01   6.400e-01   6.000e-01]]\n"
     ]
    }
   ],
   "source": [
    "print(e_vals)\n",
    "print(e_vectors)"
   ]
  },
  {
   "cell_type": "markdown",
   "metadata": {},
   "source": [
    "## Power Iteration"
   ]
  },
  {
   "cell_type": "code",
   "execution_count": 6,
   "metadata": {
    "collapsed": true
   },
   "outputs": [],
   "source": [
    "def power_iteration(A, v=None):\n",
    "    if v is None:\n",
    "        v = np.random.normal(size=A.shape[1])\n",
    "    previous = np.empty(shape=A.shape[1])\n",
    "    while True:\n",
    "        previous[:] = v\n",
    "        v = A @ v\n",
    "        v = v / np.linalg.norm(v)\n",
    "        if np.all(np.abs(v - previous) < 0.00001):\n",
    "            break\n",
    "    return v"
   ]
  },
  {
   "cell_type": "code",
   "execution_count": 7,
   "metadata": {},
   "outputs": [
    {
     "data": {
      "text/plain": [
       "array([ 0.8 , -0.36,  0.48])"
      ]
     },
     "execution_count": 7,
     "metadata": {},
     "output_type": "execute_result"
    }
   ],
   "source": [
    "power_iteration(A, v=[1, 0, 0])"
   ]
  },
  {
   "cell_type": "code",
   "execution_count": 8,
   "metadata": {},
   "outputs": [
    {
     "data": {
      "text/plain": [
       "array([ 2.92 , -0.864,  1.152])"
      ]
     },
     "execution_count": 8,
     "metadata": {},
     "output_type": "execute_result"
    }
   ],
   "source": [
    "A @ np.array([1, 0, 0])"
   ]
  },
  {
   "cell_type": "markdown",
   "metadata": {},
   "source": [
    "## Simultaneous Orthogonalization"
   ]
  },
  {
   "cell_type": "code",
   "execution_count": 9,
   "metadata": {
    "collapsed": true
   },
   "outputs": [],
   "source": [
    "def simultaneous_orthogonalization(A):\n",
    "    Q = np.random.normal(size=A.shape)\n",
    "    previous = np.empty(shape=Q.shape)\n",
    "    for i in range(100):\n",
    "        previous[:] = Q\n",
    "        Qp = A @ Q\n",
    "        Q = Qp / np.linalg.norm(Qp, axis=0)\n",
    "        #Q, R = np.linalg.qr(X)\n",
    "        if np.all(np.abs(Q - previous) < 0.00001):\n",
    "            break\n",
    "    return Q"
   ]
  },
  {
   "cell_type": "code",
   "execution_count": 10,
   "metadata": {},
   "outputs": [
    {
     "data": {
      "text/plain": [
       "array([[  3.755e-07,  -9.931e-07,  -5.402e-06],\n",
       "       [  8.000e-01,  -8.000e-01,  -8.000e-01],\n",
       "       [  6.000e-01,  -6.000e-01,  -6.000e-01]])"
      ]
     },
     "execution_count": 10,
     "metadata": {},
     "output_type": "execute_result"
    }
   ],
   "source": [
    "simultaneous_orthogonalization(A)"
   ]
  },
  {
   "cell_type": "code",
   "execution_count": 11,
   "metadata": {
    "collapsed": true
   },
   "outputs": [],
   "source": [
    "def simultaneous_orthogonalization(A):\n",
    "    Q = np.random.normal(size=A.shape)\n",
    "    memo = []; memo.append(Q)\n",
    "    previous = np.empty(shape=Q.shape)\n",
    "    for i in range(100):\n",
    "        previous[:] = Q\n",
    "        X = A @ Q\n",
    "        Q, R = np.linalg.qr(X)\n",
    "        memo.append(Q)\n",
    "        if np.all(np.abs(Q - previous) < 0.001):\n",
    "            break\n",
    "    return Q, memo"
   ]
  },
  {
   "cell_type": "code",
   "execution_count": 12,
   "metadata": {},
   "outputs": [
    {
     "data": {
      "text/plain": [
       "array([[ -1.431e-04,   7.999e-01,  -6.001e-01],\n",
       "       [ -7.999e-01,  -3.602e-01,  -4.800e-01],\n",
       "       [ -6.001e-01,   4.800e-01,   6.399e-01]])"
      ]
     },
     "execution_count": 12,
     "metadata": {},
     "output_type": "execute_result"
    }
   ],
   "source": [
    "Q, basies = simultaneous_orthogonalization(A)\n",
    "Q"
   ]
  },
  {
   "cell_type": "markdown",
   "metadata": {},
   "source": [
    "## 3D Rendering of Basis"
   ]
  },
  {
   "cell_type": "code",
   "execution_count": 16,
   "metadata": {},
   "outputs": [],
   "source": [
    "%matplotlib inline\n",
    "\n",
    "import matplotlib.pyplot as plt\n",
    "from mpl_toolkits.mplot3d import Axes3D"
   ]
  },
  {
   "cell_type": "code",
   "execution_count": 17,
   "metadata": {
    "collapsed": true
   },
   "outputs": [],
   "source": [
    "def plot_basis(ax, Q):\n",
    "    ax.auto_scale_xyz([-1, 1], [-1, 1], [-1, 1])\n",
    "    for i in range(Q.shape[1]):\n",
    "        ax.quiver(0, 0, 0, Q[0, i], Q[1, i], Q[2, i], \n",
    "                  pivot='tail', color='black')\n",
    "    ax.set_xlim([-1, 1])\n",
    "    ax.set_ylim([-1, 1])\n",
    "    ax.set_zlim([-1, 1])"
   ]
  },
  {
   "cell_type": "code",
   "execution_count": 20,
   "metadata": {},
   "outputs": [
    {
     "data": {
      "text/plain": [
       "<matplotlib.collections.PathCollection at 0x10d312b38>"
      ]
     },
     "execution_count": 20,
     "metadata": {},
     "output_type": "execute_result"
    },
    {
     "data": {
      "image/png": "[encoded data removed]",
      "text/plain": [
       "<matplotlib.figure.Figure at 0x10cbd0c88>"
      ]
     },
     "metadata": {},
     "output_type": "display_data"
    }
   ],
   "source": [
    "fig, axs = plt.subplots(1, 3, figsize=(12, 4), )\n",
    "\n",
    "for "
   ]
  },
  {
   "cell_type": "code",
   "execution_count": null,
   "metadata": {
    "collapsed": true
   },
   "outputs": [],
   "source": []
  }
 ],
 "metadata": {
  "kernelspec": {
   "display_name": "Python 3",
   "language": "python",
   "name": "python3"
  },
  "language_info": {
   "codemirror_mode": {
    "name": "ipython",
    "version": 3
   },
   "file_extension": ".py",
   "mimetype": "text/x-python",
   "name": "python",
   "nbconvert_exporter": "python",
   "pygments_lexer": "ipython3",
   "version": "3.6.1"
  }
 },
 "nbformat": 4,
 "nbformat_minor": 2
}
