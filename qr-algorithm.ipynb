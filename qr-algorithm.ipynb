{
 "cells": [
  {
   "cell_type": "code",
   "execution_count": 14,
   "metadata": {
    "collapsed": true
   },
   "outputs": [],
   "source": [
    "import numpy as np\n",
    "\n",
    "np.set_printoptions(precision=3)"
   ]
  },
  {
   "cell_type": "markdown",
   "metadata": {},
   "source": [
    "## Working Example"
   ]
  },
  {
   "cell_type": "code",
   "execution_count": 15,
   "metadata": {},
   "outputs": [],
   "source": [
    "Q = np.array([\n",
    "    [ 0.00, -0.80, -0.60],\n",
    "    [ 0.80, -0.36,  0.48],\n",
    "    [ 0.60,  0.48, -0.64]\n",
    "])\n",
    "\n",
    "D = np.array([\n",
    "    [9, 0, 0],\n",
    "    [0, 4, 0],\n",
    "    [0, 0, 1]\n",
    "])\n",
    "\n",
    "A = Q.T @ D @ Q"
   ]
  },
  {
   "cell_type": "code",
   "execution_count": 16,
   "metadata": {},
   "outputs": [
    {
     "data": {
      "text/plain": [
       "array([[ 2.92 , -0.864,  1.152],\n",
       "       [-0.864,  6.509,  3.322],\n",
       "       [ 1.152,  3.322,  4.571]])"
      ]
     },
     "execution_count": 16,
     "metadata": {},
     "output_type": "execute_result"
    }
   ],
   "source": [
    "A"
   ]
  },
  {
   "cell_type": "code",
   "execution_count": 17,
   "metadata": {},
   "outputs": [
    {
     "data": {
      "text/plain": [
       "(array([ 4.,  1.,  9.]), array([[  8.000e-01,  -6.000e-01,  -3.872e-17],\n",
       "        [ -3.600e-01,  -4.800e-01,   8.000e-01],\n",
       "        [  4.800e-01,   6.400e-01,   6.000e-01]]))"
      ]
     },
     "execution_count": 17,
     "metadata": {},
     "output_type": "execute_result"
    }
   ],
   "source": [
    "np.linalg.eig(A)"
   ]
  },
  {
   "cell_type": "markdown",
   "metadata": {},
   "source": [
    "## Power Iteration"
   ]
  },
  {
   "cell_type": "code",
   "execution_count": 18,
   "metadata": {
    "collapsed": true
   },
   "outputs": [],
   "source": [
    "def power_iteration(A, v=None):\n",
    "    if v is None:\n",
    "        v = np.random.normal(size=A.shape[1])\n",
    "    previous = np.empty(shape=A.shape[1])\n",
    "    while True:\n",
    "        previous[:] = v\n",
    "        v = A @ v\n",
    "        v = v / np.linalg.norm(v)\n",
    "        if np.all(np.abs(v - previous) < 0.00001):\n",
    "            break\n",
    "    return v"
   ]
  },
  {
   "cell_type": "code",
   "execution_count": 19,
   "metadata": {},
   "outputs": [
    {
     "data": {
      "text/plain": [
       "array([ -3.567e-06,   8.000e-01,   6.000e-01])"
      ]
     },
     "execution_count": 19,
     "metadata": {},
     "output_type": "execute_result"
    }
   ],
   "source": [
    "power_iteration(A)"
   ]
  }
 ],
 "metadata": {
  "kernelspec": {
   "display_name": "Python 3",
   "language": "python",
   "name": "python3"
  },
  "language_info": {
   "codemirror_mode": {
    "name": "ipython",
    "version": 3
   },
   "file_extension": ".py",
   "mimetype": "text/x-python",
   "name": "python",
   "nbconvert_exporter": "python",
   "pygments_lexer": "ipython3",
   "version": "3.6.1"
  }
 },
 "nbformat": 4,
 "nbformat_minor": 2
}
